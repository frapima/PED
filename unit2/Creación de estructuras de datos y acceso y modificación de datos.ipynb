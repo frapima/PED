{
 "cells": [
  {
   "cell_type": "markdown",
   "metadata": {},
   "source": [
    "# NumPy Basics: Arrays and Vectorized Computation"
   ]
  },
  {
   "cell_type": "markdown",
   "metadata": {},
   "source": [
    "NumPy, short for Numerical Python, is one of the most important foundational packages for numerical computing in Python. Most computational packages providing scientific functionality use NumPy’s array objects as the lingua franca for data exchange.\n",
    "\n",
    "Here are some of the things you’ll find in NumPy:\n",
    "\n",
    "ndarray, an efficient multidimensional array providing fast array-oriented arithmetic operations and flexible broadcasting capabilities.\n",
    "\n",
    "Mathematical functions for fast operations on entire arrays of data without having to write loops.\n",
    "\n",
    "Tools for reading/writing array data to disk and working with memory-mapped files.\n",
    "\n",
    "Linear algebra, random number generation, and Fourier transform capabilities.\n",
    "\n",
    "A C API for connecting NumPy with libraries written in C, C++, or FORTRAN.\n",
    "\n",
    "Because NumPy provides an easy-to-use C API, it is straightforward to pass data to external libraries written in a low-level language and also for external libraries to return data to Python as NumPy arrays. This feature has made Python a language of choice for wrapping legacy C/C++/Fortran codebases and giving them a dynamic and easy-to-use interface.\n",
    "\n",
    "While NumPy by itself does not provide modeling or scientific functionality, having an understanding of NumPy arrays and array-oriented computing will help you use tools with array-oriented semantics, like pandas, much more effectively. Since NumPy is a large topic, I will cover many advanced NumPy features like broadcasting in more depth later (see Appendix A).\n",
    "\n",
    "For most data analysis applications, the main areas of functionality I’ll focus on are:\n",
    "\n",
    "Fast vectorized array operations for data munging and cleaning, subsetting and filtering, transformation, and any other kinds of computations\n",
    "\n",
    "Common array algorithms like sorting, unique, and set operations\n",
    "\n",
    "Efficient descriptive statistics and aggregating/summarizing data\n",
    "\n",
    "Data alignment and relational data manipulations for merging and joining together heterogeneous datasets\n",
    "\n",
    "Expressing conditional logic as array expressions instead of loops with if-elif-else branches\n",
    "\n",
    "Group-wise data manipulations (aggregation, transformation, function application)\n",
    "\n",
    "While NumPy provides a computational foundation for general numerical data processing, many readers will want to use pandas as the basis for most kinds of statistics or analytics, especially on tabular data. pandas also provides some more domain-specific functionality like time series manipulation, which is not present in NumPy.\n",
    "\n"
   ]
  },
  {
   "cell_type": "code",
   "execution_count": null,
   "metadata": {},
   "outputs": [],
   "source": []
  }
 ],
 "metadata": {
  "kernelspec": {
   "display_name": "Python 3",
   "language": "python",
   "name": "python3"
  },
  "language_info": {
   "codemirror_mode": {
    "name": "ipython",
    "version": 3
   },
   "file_extension": ".py",
   "mimetype": "text/x-python",
   "name": "python",
   "nbconvert_exporter": "python",
   "pygments_lexer": "ipython3",
   "version": "3.8.5"
  }
 },
 "nbformat": 4,
 "nbformat_minor": 4
}
