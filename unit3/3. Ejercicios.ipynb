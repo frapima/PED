{
 "cells": [
  {
   "cell_type": "markdown",
   "metadata": {},
   "source": [
    "# Optimizar espacio para trabajar con DataFrames\n",
    "\n",
    "Cuando importamos datos de un fichero y los cargamos en un DataFrame, debemos de estar atentos a cómo se guarda la información ya que podría estar usándose más espacio en memoria del necesario."
   ]
  },
  {
   "cell_type": "code",
   "execution_count": 1,
   "metadata": {},
   "outputs": [],
   "source": [
    "import pandas as pd\n",
    "df = pd.read_csv(\"datosAImportar.csv\")"
   ]
  },
  {
   "cell_type": "code",
   "execution_count": 2,
   "metadata": {},
   "outputs": [
    {
     "name": "stdout",
     "output_type": "stream",
     "text": [
      "<class 'pandas.core.frame.DataFrame'>\n",
      "RangeIndex: 100000 entries, 0 to 99999\n",
      "Data columns (total 5 columns):\n",
      "Dia           100000 non-null object\n",
      "Mes           100000 non-null object\n",
      "Cantidad      100000 non-null float64\n",
      "Candidatos    100000 non-null int64\n",
      "Tiempo        100000 non-null object\n",
      "dtypes: float64(1), int64(1), object(3)\n",
      "memory usage: 3.8+ MB\n"
     ]
    }
   ],
   "source": [
    "#Exploramos los datos cargados\n",
    "df.info()"
   ]
  },
  {
   "cell_type": "markdown",
   "metadata": {},
   "source": [
    "Haciendo uso del atributo memory_usage=\"deep\", podemos obtener una información más precisa sobre el espacio que ocupa un DataFrame."
   ]
  },
  {
   "cell_type": "code",
   "execution_count": 3,
   "metadata": {},
   "outputs": [
    {
     "name": "stdout",
     "output_type": "stream",
     "text": [
      "<class 'pandas.core.frame.DataFrame'>\n",
      "RangeIndex: 100000 entries, 0 to 99999\n",
      "Data columns (total 5 columns):\n",
      "Dia           100000 non-null object\n",
      "Mes           100000 non-null object\n",
      "Cantidad      100000 non-null float64\n",
      "Candidatos    100000 non-null int64\n",
      "Tiempo        100000 non-null object\n",
      "dtypes: float64(1), int64(1), object(3)\n",
      "memory usage: 20.3 MB\n"
     ]
    }
   ],
   "source": [
    "df.info(memory_usage=\"deep\")"
   ]
  },
  {
   "cell_type": "code",
   "execution_count": 4,
   "metadata": {},
   "outputs": [
    {
     "data": {
      "text/html": [
       "<div>\n",
       "<style scoped>\n",
       "    .dataframe tbody tr th:only-of-type {\n",
       "        vertical-align: middle;\n",
       "    }\n",
       "\n",
       "    .dataframe tbody tr th {\n",
       "        vertical-align: top;\n",
       "    }\n",
       "\n",
       "    .dataframe thead th {\n",
       "        text-align: right;\n",
       "    }\n",
       "</style>\n",
       "<table border=\"1\" class=\"dataframe\">\n",
       "  <thead>\n",
       "    <tr style=\"text-align: right;\">\n",
       "      <th></th>\n",
       "      <th>Dia</th>\n",
       "      <th>Mes</th>\n",
       "      <th>Cantidad</th>\n",
       "      <th>Candidatos</th>\n",
       "      <th>Tiempo</th>\n",
       "    </tr>\n",
       "  </thead>\n",
       "  <tbody>\n",
       "    <tr>\n",
       "      <th>0</th>\n",
       "      <td>Domingo</td>\n",
       "      <td>Junio</td>\n",
       "      <td>437.195611</td>\n",
       "      <td>5</td>\n",
       "      <td>lluvia</td>\n",
       "    </tr>\n",
       "    <tr>\n",
       "      <th>1</th>\n",
       "      <td>Lunes</td>\n",
       "      <td>Febrero</td>\n",
       "      <td>366.766836</td>\n",
       "      <td>10</td>\n",
       "      <td>lluvia</td>\n",
       "    </tr>\n",
       "    <tr>\n",
       "      <th>2</th>\n",
       "      <td>Martes</td>\n",
       "      <td>Noviembre</td>\n",
       "      <td>406.538866</td>\n",
       "      <td>12</td>\n",
       "      <td>nieve</td>\n",
       "    </tr>\n",
       "    <tr>\n",
       "      <th>3</th>\n",
       "      <td>Jueves</td>\n",
       "      <td>Marzo</td>\n",
       "      <td>658.514502</td>\n",
       "      <td>9</td>\n",
       "      <td>lluvia</td>\n",
       "    </tr>\n",
       "    <tr>\n",
       "      <th>4</th>\n",
       "      <td>Miércoles</td>\n",
       "      <td>Abril</td>\n",
       "      <td>592.096966</td>\n",
       "      <td>6</td>\n",
       "      <td>nieve</td>\n",
       "    </tr>\n",
       "  </tbody>\n",
       "</table>\n",
       "</div>"
      ],
      "text/plain": [
       "         Dia        Mes    Cantidad  Candidatos  Tiempo\n",
       "0    Domingo      Junio  437.195611           5  lluvia\n",
       "1      Lunes    Febrero  366.766836          10  lluvia\n",
       "2     Martes  Noviembre  406.538866          12   nieve\n",
       "3     Jueves      Marzo  658.514502           9  lluvia\n",
       "4  Miércoles      Abril  592.096966           6   nieve"
      ]
     },
     "execution_count": 4,
     "metadata": {},
     "output_type": "execute_result"
    }
   ],
   "source": [
    "df.head()"
   ]
  },
  {
   "cell_type": "markdown",
   "metadata": {},
   "source": [
    "De cara a optimizar el espacio en memoria, vamos a ver cuánto está ocupando, en media, una columna dependiendo del tipo que almacena."
   ]
  },
  {
   "cell_type": "code",
   "execution_count": 5,
   "metadata": {},
   "outputs": [],
   "source": [
    "def espacioPorTipo(df):\n",
    "    for tipo in ['float','int','object']:\n",
    "        columnasTipo = df.select_dtypes(include=[tipo])\n",
    "        mediaUsoMemoria = columnasTipo.memory_usage(deep=True).mean()\n",
    "        mediaUsoMemoriaMB = mediaUsoMemoria / 1024 ** 2\n",
    "        print(\"Uso de memoria para el tipo \",tipo , \" : {:0.5f} MB\".format(mediaUsoMemoriaMB))"
   ]
  },
  {
   "cell_type": "code",
   "execution_count": 6,
   "metadata": {},
   "outputs": [
    {
     "name": "stdout",
     "output_type": "stream",
     "text": [
      "Uso de memoria para el tipo  float  : 0.38151 MB\n",
      "Uso de memoria para el tipo  int  : 0.38151 MB\n",
      "Uso de memoria para el tipo  object  : 4.69722 MB\n"
     ]
    }
   ],
   "source": [
    "espacioPorTipo(df)"
   ]
  },
  {
   "cell_type": "markdown",
   "metadata": {},
   "source": [
    "Vemos que las columnas de tipo object son las que más ocupan con diferencia. \n",
    "\n",
    "Vamos a ver cómo optimizar el uso de memoria de cada tipo paso a paso."
   ]
  },
  {
   "cell_type": "markdown",
   "metadata": {},
   "source": [
    "## Optimizando el espacio que ocupan las columnas de números\n",
    "\n",
    "Tenemos una sola columna de tipo entero, donde podemos observar que se almacenan los números usando 64 bits. Con esta cantidad de bits, podemos representar números muy grandes que quizás no estemos utilizando. Vamos a ver cómo son los datos que almacenamos"
   ]
  },
  {
   "cell_type": "code",
   "execution_count": 7,
   "metadata": {},
   "outputs": [
    {
     "data": {
      "text/plain": [
       "count    100000.000000\n",
       "mean         10.474550\n",
       "std           5.750018\n",
       "min           1.000000\n",
       "25%           6.000000\n",
       "50%          10.000000\n",
       "75%          15.000000\n",
       "max          20.000000\n",
       "Name: Candidatos, dtype: float64"
      ]
     },
     "execution_count": 7,
     "metadata": {},
     "output_type": "execute_result"
    }
   ],
   "source": [
    "df[\"Candidatos\"].describe()"
   ]
  },
  {
   "cell_type": "markdown",
   "metadata": {},
   "source": [
    "Observamos que tenemos números entre 1 y 20. Por tanto, podemos representarlos usando menos información. Para ello, usamos el método to_numeric de pandas y el atributo downcast=\"unsigned\" para especificar números sin signo (ya que todos son positivos). Convertimos las columnas que contienen enteros y vemos el resultado.\n",
    "\n",
    "El método to_numeric con el atributo downcast permite almacenar un número en el tipo más pequeño posible.\n",
    "\n",
    "Si tuviésemos números positivos y negativos, usaríamos la opción integer."
   ]
  },
  {
   "cell_type": "code",
   "execution_count": 8,
   "metadata": {},
   "outputs": [],
   "source": [
    "#reducimos espacio de las columnas de tipo entero\n",
    "df2 = df.copy()\n",
    "for col in df2.columns:            \n",
    "       if \"int\" in str(df2[col].dtype):\n",
    "            df2[col] = pd.to_numeric(df2[col],downcast='unsigned')"
   ]
  },
  {
   "cell_type": "code",
   "execution_count": 9,
   "metadata": {},
   "outputs": [
    {
     "name": "stdout",
     "output_type": "stream",
     "text": [
      "<class 'pandas.core.frame.DataFrame'>\n",
      "RangeIndex: 100000 entries, 0 to 99999\n",
      "Data columns (total 5 columns):\n",
      "Dia           100000 non-null object\n",
      "Mes           100000 non-null object\n",
      "Cantidad      100000 non-null float64\n",
      "Candidatos    100000 non-null uint8\n",
      "Tiempo        100000 non-null object\n",
      "dtypes: float64(1), object(3), uint8(1)\n",
      "memory usage: 19.6 MB\n"
     ]
    }
   ],
   "source": [
    "df2.info(memory_usage=\"deep\")"
   ]
  },
  {
   "cell_type": "code",
   "execution_count": 10,
   "metadata": {},
   "outputs": [
    {
     "name": "stdout",
     "output_type": "stream",
     "text": [
      "Uso de memoria para el tipo  float  : 0.38151 MB\n",
      "Uso de memoria para el tipo  int  : 0.00008 MB\n",
      "Uso de memoria para el tipo  object  : 4.69722 MB\n"
     ]
    }
   ],
   "source": [
    "espacioPorTipo(df2)"
   ]
  },
  {
   "cell_type": "markdown",
   "metadata": {},
   "source": [
    "Realizamos el mismo proceso con los números en coma flotante usando el valor float para el atributo downcast"
   ]
  },
  {
   "cell_type": "code",
   "execution_count": 11,
   "metadata": {},
   "outputs": [],
   "source": [
    "#reducimos espacio de las columnas de tipo float\n",
    "df3 = df2.copy()\n",
    "for col in df3.columns:            \n",
    "       if \"float\" in str(df3[col].dtype):\n",
    "            df3[col] = pd.to_numeric(df3[col],downcast='float')"
   ]
  },
  {
   "cell_type": "code",
   "execution_count": 12,
   "metadata": {},
   "outputs": [
    {
     "name": "stdout",
     "output_type": "stream",
     "text": [
      "<class 'pandas.core.frame.DataFrame'>\n",
      "RangeIndex: 100000 entries, 0 to 99999\n",
      "Data columns (total 5 columns):\n",
      "Dia           100000 non-null object\n",
      "Mes           100000 non-null object\n",
      "Cantidad      100000 non-null float32\n",
      "Candidatos    100000 non-null uint8\n",
      "Tiempo        100000 non-null object\n",
      "dtypes: float32(1), object(3), uint8(1)\n",
      "memory usage: 19.3 MB\n"
     ]
    }
   ],
   "source": [
    "df3.info(memory_usage=\"deep\")"
   ]
  },
  {
   "cell_type": "code",
   "execution_count": 13,
   "metadata": {},
   "outputs": [
    {
     "name": "stdout",
     "output_type": "stream",
     "text": [
      "Uso de memoria para el tipo  float  : 0.00008 MB\n",
      "Uso de memoria para el tipo  int  : 0.00008 MB\n",
      "Uso de memoria para el tipo  object  : 4.69722 MB\n"
     ]
    }
   ],
   "source": [
    "espacioPorTipo(df3)"
   ]
  },
  {
   "cell_type": "markdown",
   "metadata": {},
   "source": [
    "## Reducir espacio del tipo object\n",
    "\n",
    "Tenemos que explorar el tipo para ver cómo podemos reducirlo. Si nos fijamos, está usándose texto para representar una serie de categorías. De hecho, a través de unique podemos ver cuántas categorías distintas tenemos"
   ]
  },
  {
   "cell_type": "code",
   "execution_count": 14,
   "metadata": {},
   "outputs": [
    {
     "data": {
      "text/plain": [
       "array(['Junio', 'Febrero', 'Noviembre', 'Marzo', 'Abril', 'Mayo',\n",
       "       'Diciembre', 'Enero', 'Octubre', 'Agosto', 'Julio', 'Septiembre'],\n",
       "      dtype=object)"
      ]
     },
     "execution_count": 14,
     "metadata": {},
     "output_type": "execute_result"
    }
   ],
   "source": [
    "df3[\"Mes\"].unique()"
   ]
  },
  {
   "cell_type": "code",
   "execution_count": 15,
   "metadata": {},
   "outputs": [
    {
     "data": {
      "text/plain": [
       "array(['Domingo', 'Lunes', 'Martes', 'Jueves', 'Miércoles', 'Viernes',\n",
       "       'Sábado'], dtype=object)"
      ]
     },
     "execution_count": 15,
     "metadata": {},
     "output_type": "execute_result"
    }
   ],
   "source": [
    "df3[\"Dia\"].unique()"
   ]
  },
  {
   "cell_type": "code",
   "execution_count": 16,
   "metadata": {},
   "outputs": [
    {
     "data": {
      "text/plain": [
       "array(['lluvia', 'nieve', 'nublado', 'soleado'], dtype=object)"
      ]
     },
     "execution_count": 16,
     "metadata": {},
     "output_type": "execute_result"
    }
   ],
   "source": [
    "df3[\"Tiempo\"].unique()"
   ]
  },
  {
   "cell_type": "markdown",
   "metadata": {},
   "source": [
    "En los tres casos tenemos como mucho 12 valores distintos por categoría. Sería más eficiente guardar la información asociada a la categoría en lugar del texto, que ocupa mucho más. Usando categorías, una columna puede ocupar el mismo espacio que si usásemos enteros. \n",
    "\n",
    "Probemos a convertir las columnas de tipo objeto a categoría."
   ]
  },
  {
   "cell_type": "code",
   "execution_count": 17,
   "metadata": {},
   "outputs": [],
   "source": [
    "df4 = df3.copy()\n",
    "for col in df4.columns:            \n",
    "       if \"object\" in str(df4[col].dtype):\n",
    "            df4[col] = df4[col].astype('category')"
   ]
  },
  {
   "cell_type": "code",
   "execution_count": 18,
   "metadata": {},
   "outputs": [
    {
     "name": "stdout",
     "output_type": "stream",
     "text": [
      "<class 'pandas.core.frame.DataFrame'>\n",
      "RangeIndex: 100000 entries, 0 to 99999\n",
      "Data columns (total 5 columns):\n",
      "Dia           100000 non-null category\n",
      "Mes           100000 non-null category\n",
      "Cantidad      100000 non-null float32\n",
      "Candidatos    100000 non-null uint8\n",
      "Tiempo        100000 non-null category\n",
      "dtypes: category(3), float32(1), uint8(1)\n",
      "memory usage: 783.6 KB\n"
     ]
    }
   ],
   "source": [
    "df4.info(memory_usage=\"deep\")"
   ]
  },
  {
   "cell_type": "code",
   "execution_count": 19,
   "metadata": {},
   "outputs": [
    {
     "name": "stdout",
     "output_type": "stream",
     "text": [
      "Uso de memoria para el tipo  float  : 0.00008 MB\n",
      "Uso de memoria para el tipo  int  : 0.00008 MB\n",
      "Uso de memoria para el tipo  object  : 0.00008 MB\n"
     ]
    }
   ],
   "source": [
    "espacioPorTipo(df4)"
   ]
  },
  {
   "cell_type": "code",
   "execution_count": 20,
   "metadata": {},
   "outputs": [
    {
     "data": {
      "text/html": [
       "<div>\n",
       "<style scoped>\n",
       "    .dataframe tbody tr th:only-of-type {\n",
       "        vertical-align: middle;\n",
       "    }\n",
       "\n",
       "    .dataframe tbody tr th {\n",
       "        vertical-align: top;\n",
       "    }\n",
       "\n",
       "    .dataframe thead th {\n",
       "        text-align: right;\n",
       "    }\n",
       "</style>\n",
       "<table border=\"1\" class=\"dataframe\">\n",
       "  <thead>\n",
       "    <tr style=\"text-align: right;\">\n",
       "      <th></th>\n",
       "      <th>Dia</th>\n",
       "      <th>Mes</th>\n",
       "      <th>Cantidad</th>\n",
       "      <th>Candidatos</th>\n",
       "      <th>Tiempo</th>\n",
       "    </tr>\n",
       "  </thead>\n",
       "  <tbody>\n",
       "    <tr>\n",
       "      <th>0</th>\n",
       "      <td>Domingo</td>\n",
       "      <td>Junio</td>\n",
       "      <td>437.195618</td>\n",
       "      <td>5</td>\n",
       "      <td>lluvia</td>\n",
       "    </tr>\n",
       "    <tr>\n",
       "      <th>1</th>\n",
       "      <td>Lunes</td>\n",
       "      <td>Febrero</td>\n",
       "      <td>366.766846</td>\n",
       "      <td>10</td>\n",
       "      <td>lluvia</td>\n",
       "    </tr>\n",
       "    <tr>\n",
       "      <th>2</th>\n",
       "      <td>Martes</td>\n",
       "      <td>Noviembre</td>\n",
       "      <td>406.538879</td>\n",
       "      <td>12</td>\n",
       "      <td>nieve</td>\n",
       "    </tr>\n",
       "    <tr>\n",
       "      <th>3</th>\n",
       "      <td>Jueves</td>\n",
       "      <td>Marzo</td>\n",
       "      <td>658.514526</td>\n",
       "      <td>9</td>\n",
       "      <td>lluvia</td>\n",
       "    </tr>\n",
       "    <tr>\n",
       "      <th>4</th>\n",
       "      <td>Miércoles</td>\n",
       "      <td>Abril</td>\n",
       "      <td>592.096985</td>\n",
       "      <td>6</td>\n",
       "      <td>nieve</td>\n",
       "    </tr>\n",
       "  </tbody>\n",
       "</table>\n",
       "</div>"
      ],
      "text/plain": [
       "         Dia        Mes    Cantidad  Candidatos  Tiempo\n",
       "0    Domingo      Junio  437.195618           5  lluvia\n",
       "1      Lunes    Febrero  366.766846          10  lluvia\n",
       "2     Martes  Noviembre  406.538879          12   nieve\n",
       "3     Jueves      Marzo  658.514526           9  lluvia\n",
       "4  Miércoles      Abril  592.096985           6   nieve"
      ]
     },
     "execution_count": 20,
     "metadata": {},
     "output_type": "execute_result"
    }
   ],
   "source": [
    "df4.head()"
   ]
  },
  {
   "cell_type": "markdown",
   "metadata": {},
   "source": [
    "# Pregunta abierta para experimentar\n",
    "\n",
    "¿Qué pasaría si importamos datos que contienen fechas? "
   ]
  },
  {
   "cell_type": "code",
   "execution_count": 21,
   "metadata": {},
   "outputs": [],
   "source": [
    "#trabajar con la siguiente colección que contiene fechas\n",
    "dfConFechas = pd.read_csv(\"datosAImportarConFechas.csv\")"
   ]
  }
 ],
 "metadata": {
  "kernelspec": {
   "display_name": "Python 3",
   "language": "python",
   "name": "python3"
  },
  "language_info": {
   "codemirror_mode": {
    "name": "ipython",
    "version": 3
   },
   "file_extension": ".py",
   "mimetype": "text/x-python",
   "name": "python",
   "nbconvert_exporter": "python",
   "pygments_lexer": "ipython3",
   "version": "3.5.6"
  }
 },
 "nbformat": 4,
 "nbformat_minor": 2
}
